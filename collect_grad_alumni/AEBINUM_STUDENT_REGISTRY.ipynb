{
 "cells": [
  {
   "cell_type": "code",
   "execution_count": 35,
   "metadata": {},
   "outputs": [],
   "source": [
    "from urllib.request import Request, urlopen, urlretrieve\n",
    "from IPython.display import display, HTML\n",
    "from bs4 import BeautifulSoup\n",
    "import pandas as pd\n",
    "import requests"
   ]
  },
  {
   "cell_type": "code",
   "execution_count": 36,
   "metadata": {},
   "outputs": [],
   "source": [
    "class HTMLTableParser:\n",
    "    def __init__(self, url):\n",
    "        self.url = url\n",
    "\n",
    "    def find_table(self):\n",
    "        response = requests.get(self.url)\n",
    "        soup = BeautifulSoup(response.text,  \"html.parser\")\n",
    "        table = soup.find_all('table')[0]\n",
    "        return table\n",
    "            \n",
    "\n",
    "    def parse_html_table(self, table):\n",
    "        n_columns = 0\n",
    "        n_rows=0\n",
    "        column_names = []\n",
    "\n",
    "        # Find number of rows and columns\n",
    "        # we also find the column titles if we can\n",
    "        for row in table.find_all('tr'):\n",
    "\n",
    "            # Determine the number of rows in the table\n",
    "            td_tags = row.find_all('td')\n",
    "            if len(td_tags) > 0:\n",
    "                n_rows+=1\n",
    "                if n_columns == 0:\n",
    "                    # Set the number of columns for our table\n",
    "                    n_columns = len(td_tags)\n",
    "\n",
    "            # Handle column names if we find them\n",
    "            th_tags = row.find_all('th')\n",
    "            if len(th_tags) > 0 and len(column_names) == 0:\n",
    "                for th in th_tags:\n",
    "                    column_names.append(th.get_text())\n",
    "\n",
    "        # Safeguard on Column Titles\n",
    "        if len(column_names) > 0 and len(column_names) != n_columns:\n",
    "            raise Exception(\"Column titles do not match the number of columns\")\n",
    "\n",
    "        columns = column_names if len(column_names) > 0 else range(0,n_columns)\n",
    "        df = pd.DataFrame(columns = columns,\n",
    "                          index= range(0, n_rows))\n",
    "        row_marker = 0\n",
    "        for row in table.find_all('tr'):\n",
    "            column_marker = 0\n",
    "            columns = row.find_all('td')\n",
    "            for column in columns:\n",
    "                df.iat[row_marker,column_marker] = column.get_text()\n",
    "                column_marker += 1\n",
    "            if len(columns) > 0:\n",
    "                row_marker += 1\n",
    "        \n",
    "        return df"
   ]
  },
  {
   "cell_type": "code",
   "execution_count": 48,
   "metadata": {},
   "outputs": [],
   "source": [
    "#### Table preprocessing steps\n",
    "\n",
    "def format_header(x):\n",
    "    if x == 0 :\n",
    "        return 'Manuscrit_soumis'\n",
    "    if x == 1 :\n",
    "        return 'Etudiant_Directeur'\n",
    "    if x == 2 :\n",
    "        return 'Titre_Projet'\n",
    "    if x == 3 :\n",
    "        return 'Programme'\n",
    "    if x == 4 :\n",
    "        return 'Grade_obtenu'\n",
    "    \n",
    "def custom_column(table):\n",
    "    header = table.iloc[0]\n",
    "    for i in header.index :\n",
    "        header[i] = format_header(i)\n",
    "    table = table.rename(columns = header)\n",
    "    return table\n",
    "\n",
    "def get_table(url):\n",
    "    udm_site = HTMLTableParser(url)\n",
    "    table = udm_site.find_table()\n",
    "    tmp = udm_site.parse_html_table(table)\n",
    "    format_tmp = custom_column(tmp)\n",
    "    return format_tmp\n",
    "\n",
    "def format_content(x):\n",
    "    if '\\n' in x :\n",
    "        x = x.replace('\\n', ' / ') \n",
    "        return x\n",
    "    return x"
   ]
  },
  {
   "cell_type": "code",
   "execution_count": 51,
   "metadata": {},
   "outputs": [],
   "source": [
    "#### Table collection, filtration and saving steps\n",
    "def save_alumn_tables(start, end, phd_links, master_links, student_type):\n",
    "    if 'phd' in student_type:\n",
    "        for i in range(len(phd_links)):\n",
    "            if i == 0 :\n",
    "                all_phd_student = get_table(phd_links[i])\n",
    "            else:\n",
    "                tmp = get_table(phd_links[i])\n",
    "                all_phd_student = all_phd_student.append(tmp, sort=True)\n",
    "        ## All phd student table\n",
    "        all_phd_student = all_phd_student.dropna().reset_index().drop(columns=['index'])\n",
    "        all_phd_student['Etudiant_Directeur'] = all_phd_student['Etudiant_Directeur'].apply(format_content)\n",
    "     \n",
    "        ## Only Phd Bioinfo students\n",
    "        bioinfo_phd = all_phd_student[all_phd_student['Programme'] == 'Bio-informatique'][['Programme', 'Etudiant_Directeur', 'Titre_Projet', 'Manuscrit_soumis', 'Grade_obtenu']]\n",
    "        print(f'Total number of {student_type} alumni: {len(bioinfo_phd)}')\n",
    "\n",
    "        year=end\n",
    "        bioinfo_phd.to_csv(f'./{year}/AEBINUM_PHD_ALUMN_LIST_{year}.csv', sep=',', encoding='utf-8', index=False)\n",
    "\n",
    "    if 'master' in student_type:\n",
    "        for i in range(len(master_links)):\n",
    "            if i == 0 :\n",
    "                all_master_student = get_table(master_links[i])\n",
    "            else:\n",
    "                tmp = get_table(master_links[i])\n",
    "                all_master_student = all_master_student.append(tmp, sort=True)\n",
    "        ## All master student table\n",
    "        all_master_student = all_master_student.dropna().reset_index().drop(columns=['index'])\n",
    "        all_master_student['Etudiant_Directeur'] = all_master_student['Etudiant_Directeur'].apply(format_content)\n",
    "        \n",
    "        ## Only Master Bioinfo students\n",
    "        bioinfo_master = all_master_student[all_master_student['Programme'] == 'Bio-informatique'][['Programme', 'Etudiant_Directeur', 'Titre_Projet', 'Manuscrit_soumis', 'Grade_obtenu']]\n",
    "\n",
    "        print(f'Total number of {student_type} alumni: {len(bioinfo_master)}')\n",
    "\n",
    "        year=end\n",
    "        bioinfo_master.to_csv(f'./{year}/AEBINUM_MASTER_ALUMN_LIST_{year}.csv', sep=',', encoding='utf-8', index=False)\n",
    "\n",
    "\n",
    "def collect_alumn_tables(start, end):\n",
    "    #### Collect all links from 2000 to now\n",
    "    phd_links = []\n",
    "    master_links = []\n",
    "    url = 'https://biochimie.umontreal.ca/etudes/memoires-et-soutenances/'\n",
    "    for Y in range(start, end+1):\n",
    "        if 2000 == Y or 2001 == Y :\n",
    "            phd_links.append('{}soutenances-{}/'.format(url, Y))\n",
    "        else:\n",
    "            phd_links.append('{}soutenances-de-these-{}/'.format(url, Y))\n",
    "            master_links.append('{}memoires-de-maitrise-{}/'.format(url, Y))\n",
    "    \n",
    "    for student_type in ['master', 'phd']:\n",
    "        save_alumn_tables(start, end, phd_links, master_links, student_type)\n",
    "    print(f'Alumni tables saved from {start} to {end}')\n"
   ]
  },
  {
   "cell_type": "code",
   "execution_count": 52,
   "metadata": {},
   "outputs": [
    {
     "output_type": "stream",
     "name": "stdout",
     "text": [
      "Total number of master alumni: 55\n",
      "Total number of phd alumni: 26\n",
      "Alumni tables saved from 2000 to 2019\n"
     ]
    }
   ],
   "source": [
    "#### Collection of alumni from 2000 to 2019\n",
    "start = 2000\n",
    "end = 2019\n",
    "collect_alumn_tables(start, end)"
   ]
  },
  {
   "cell_type": "code",
   "execution_count": 53,
   "metadata": {},
   "outputs": [
    {
     "output_type": "stream",
     "name": "stdout",
     "text": [
      "Total number of master alumni: 58\n",
      "Total number of phd alumni: 27\n",
      "Alumni tables saved from 2000 to 2020\n"
     ]
    }
   ],
   "source": [
    "#### Collection of alumni from 2000 to 2020\n",
    "start = 2000\n",
    "end = 2020\n",
    "collect_alumn_tables(start, end)"
   ]
  },
  {
   "cell_type": "markdown",
   "metadata": {},
   "source": [
    "### 1."
   ]
  }
 ],
 "metadata": {
  "kernelspec": {
   "display_name": "Python 3",
   "language": "python",
   "name": "python3"
  },
  "language_info": {
   "codemirror_mode": {
    "name": "ipython",
    "version": 3
   },
   "file_extension": ".py",
   "mimetype": "text/x-python",
   "name": "python",
   "nbconvert_exporter": "python",
   "pygments_lexer": "ipython3",
   "version": "3.8.5-final"
  }
 },
 "nbformat": 4,
 "nbformat_minor": 2
}