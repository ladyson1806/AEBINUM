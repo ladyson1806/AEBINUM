{
 "metadata": {
  "language_info": {
   "codemirror_mode": {
    "name": "ipython",
    "version": 3
   },
   "file_extension": ".py",
   "mimetype": "text/x-python",
   "name": "python",
   "nbconvert_exporter": "python",
   "pygments_lexer": "ipython3",
   "version": "3.8.5-final"
  },
  "orig_nbformat": 2,
  "kernelspec": {
   "name": "python3",
   "display_name": "Python 3",
   "language": "python"
  }
 },
 "nbformat": 4,
 "nbformat_minor": 2,
 "cells": [
  {
   "cell_type": "code",
   "execution_count": 1,
   "metadata": {},
   "outputs": [],
   "source": [
    "from urllib.request import Request, urlopen, urlretrieve\n",
    "from IPython.display import display, HTML\n",
    "from bs4 import BeautifulSoup\n",
    "import pandas as pd\n",
    "import re, requests"
   ]
  },
  {
   "cell_type": "code",
   "execution_count": 2,
   "metadata": {},
   "outputs": [],
   "source": [
    "class HTMLTableParser:\n",
    "    def __init__(self, url):\n",
    "        self.url = url\n",
    "\n",
    "    def find_table(self):\n",
    "        response = requests.get(self.url)\n",
    "        soup = BeautifulSoup(response.text,  \"html.parser\")\n",
    "        table = soup.find_all('table')[0]\n",
    "        return table\n",
    "\n",
    "    def parse_html_table(self, table):\n",
    "        n_columns = 0\n",
    "        n_rows=0\n",
    "        column_names = []\n",
    "\n",
    "        # Find number of rows and columns\n",
    "        # we also find the column titles if we can\n",
    "        for row in table.find_all('tr'):\n",
    "\n",
    "            # Determine the number of rows in the table\n",
    "            td_tags = row.find_all('td')\n",
    "            if len(td_tags) > 0:\n",
    "                n_rows+=1\n",
    "                if n_columns == 0:\n",
    "                    # Set the number of columns for our table\n",
    "                    n_columns = len(td_tags)\n",
    "\n",
    "            # Handle column names if we find them\n",
    "            th_tags = row.find_all('th')\n",
    "            if len(th_tags) > 0 and len(column_names) == 0:\n",
    "                for th in th_tags:\n",
    "                    column_names.append(th.get_text())\n",
    "\n",
    "        # Safeguard on Column Titles\n",
    "        if len(column_names) > 0 and len(column_names) != n_columns:\n",
    "            raise Exception(\"Column titles do not match the number of columns\")\n",
    "\n",
    "        columns = column_names if len(column_names) > 0 else range(0,n_columns)\n",
    "        df = pd.DataFrame(columns = columns,\n",
    "                          index= range(0, n_rows))\n",
    "        row_marker = 0\n",
    "        for row in table.find_all('tr'):\n",
    "            column_marker = 0\n",
    "            columns = row.find_all('td')\n",
    "            for column in columns:\n",
    "                content = column.get_text()\n",
    "                df.iat[row_marker,column_marker] = content\n",
    "                if 'mailto:' in str(column):\n",
    "                    email = re.findall(r'mailto:([a-z0-9.-]+)', str(column))[0]\n",
    "                    email += '@umontreal.ca'\n",
    "                    df.iat[row_marker, column_marker] = f'{content}, {email}'\n",
    "                column_marker += 1\n",
    "            if len(columns) > 0:\n",
    "                row_marker += 1\n",
    "        \n",
    "        return df"
   ]
  },
  {
   "cell_type": "code",
   "execution_count": 3,
   "metadata": {},
   "outputs": [],
   "source": [
    "def format_header(x):\n",
    "    if x == 0 :\n",
    "        return 'Identité'\n",
    "    if x == 1 :\n",
    "        return 'Niveau'\n",
    "    if x == 2 :\n",
    "        return 'Labo'\n",
    "    if x == 3 :\n",
    "        return 'Téléphone'\n",
    "\n",
    "def custom_column(table):\n",
    "    header = table.iloc[0]\n",
    "    for i in header.index :\n",
    "        header[i] = format_header(i)\n",
    "    table = table.rename(columns = header)\n",
    "    return table\n",
    "\n",
    "def get_table(url):\n",
    "    udm_site = HTMLTableParser(url)\n",
    "    table = udm_site.find_table()\n",
    "    tmp = udm_site.parse_html_table(table)\n",
    "    format_tmp = custom_column(tmp)\n",
    "    format_tmp = format_tmp[1:].reset_index()\n",
    "    return format_tmp\n",
    "\n",
    "def custom_table(table):\n",
    "    table['Nom'] = [ table['Identité'][i].split(', ')[0] for i in table.index ]\n",
    "    table['Prénom'] = [ table['Identité'][i].split(', ')[1] for i in table.index ]\n",
    "    table['Email'] = [ table['Identité'][i].split(', ')[2] if len(table['Identité'][i].split(', ')) == 3 else 'NA' for i in table.index  ]\n",
    "    table = table.drop(columns=['index', 'Identité'])\n",
    "    return table[['Nom', 'Prénom', 'Niveau', 'Labo', 'Email']]"
   ]
  },
  {
   "cell_type": "code",
   "execution_count": 4,
   "metadata": {
    "tags": []
   },
   "outputs": [],
   "source": []
  },
  {
   "cell_type": "code",
   "execution_count": 9,
   "metadata": {},
   "outputs": [],
   "source": [
    "##### Website visited on 02/02/2021\n",
    "session = 'H21'\n",
    "student_all_url = 'https://biochimie.umontreal.ca/departement/repertoires/etudiants-gradues/'\n",
    "all_student_table = custom_table(get_table(student_all_url))\n",
    "\n",
    "#### Collect only bioinformatics students\n",
    "bioinfo_students = all_student_table[all_student_table['Niveau'].str.contains('BIN')]\n",
    "bioinfo_students.to_csv(f'./CSV/bioinfo_student_database_{session}.csv', encoding='utf-8', index=False)"
   ]
  },
  {
   "cell_type": "code",
   "execution_count": null,
   "metadata": {},
   "outputs": [],
   "source": []
  },
  {
   "cell_type": "code",
   "execution_count": null,
   "metadata": {},
   "outputs": [],
   "source": []
  }
 ]
}